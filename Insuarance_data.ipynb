{
 "cells": [
  {
   "cell_type": "code",
   "execution_count": 5,
   "metadata": {},
   "outputs": [],
   "source": [
    "import pandas as pd\n",
    "import numpy as np\n",
    "from sklearn.model_selection import train_test_split\n",
    "from sklearn.linear_model import LinearRegression\n",
    "import matplotlib.pyplot as plt\n",
    "import seaborn as sn\n",
    "from sklearn import metrics\n",
    "import statistics"
   ]
  },
  {
   "cell_type": "code",
   "execution_count": 7,
   "metadata": {},
   "outputs": [
    {
     "name": "stdout",
     "output_type": "stream",
     "text": [
      "*** No CODEPAGE record, no encoding_override: will use 'ascii'\n",
      "[[108]\n",
      " [ 19]\n",
      " [ 13]\n",
      " [124]\n",
      " [ 40]\n",
      " [ 57]\n",
      " [ 23]\n",
      " [ 14]\n",
      " [ 45]\n",
      " [ 10]] [392.5  46.2  15.7 422.2 119.4 170.9  56.9  77.5 214.   65.3]\n"
     ]
    }
   ],
   "source": [
    "df = pd.read_excel(\"slr06.xls\")\n",
    "X = df.iloc[:,:-1].values\n",
    "y = df.iloc[:,1].values\n",
    "print(X[:10], y[:10])"
   ]
  },
  {
   "cell_type": "code",
   "execution_count": 8,
   "metadata": {},
   "outputs": [
    {
     "name": "stdout",
     "output_type": "stream",
     "text": [
      "[[  9]\n",
      " [ 41]\n",
      " [  8]\n",
      " [ 13]\n",
      " [ 60]\n",
      " [ 24]\n",
      " [  3]\n",
      " [ 31]\n",
      " [ 25]\n",
      " [  2]\n",
      " [  0]\n",
      " [ 57]\n",
      " [ 24]\n",
      " [  6]\n",
      " [ 29]\n",
      " [ 45]\n",
      " [ 23]\n",
      " [  7]\n",
      " [ 12]\n",
      " [  6]\n",
      " [ 53]\n",
      " [ 13]\n",
      " [ 30]\n",
      " [  4]\n",
      " [ 19]\n",
      " [ 11]\n",
      " [  8]\n",
      " [ 29]\n",
      " [ 23]\n",
      " [  3]\n",
      " [ 61]\n",
      " [ 17]\n",
      " [  9]\n",
      " [ 23]\n",
      " [ 10]\n",
      " [ 16]\n",
      " [  9]\n",
      " [124]\n",
      " [108]\n",
      " [ 15]\n",
      " [ 27]\n",
      " [ 55]] [[37]\n",
      " [ 3]\n",
      " [26]\n",
      " [13]\n",
      " [ 6]\n",
      " [22]\n",
      " [ 4]\n",
      " [11]\n",
      " [48]\n",
      " [13]\n",
      " [ 4]\n",
      " [14]\n",
      " [40]\n",
      " [ 5]\n",
      " [20]\n",
      " [ 5]\n",
      " [11]\n",
      " [41]\n",
      " [ 7]\n",
      " [14]\n",
      " [ 7]] [ 52.1 181.3  55.6  89.9 202.4 137.9   4.4 209.8  69.2   6.6   0.  170.9\n",
      " 134.9  14.8 133.3 214.   39.6  77.5  58.1  50.9 244.6  31.9 194.5  12.6\n",
      "  46.2  23.5  76.1 103.9  56.9  13.2 217.6 142.1  48.7 113.   65.3  59.6\n",
      "  87.4 422.2 392.5  32.1  92.6 162.8] [152.8  39.9 187.5  93.   14.6 161.5  38.1  21.3 248.1  15.7  11.8  95.5\n",
      " 119.4  20.9  98.1  40.3  57.2  73.4  27.9  77.5  48.8]\n"
     ]
    }
   ],
   "source": [
    "X_train, X_test, y_train, y_test = train_test_split(X,y,test_size=0.33,random_state=0)\n",
    "print(X_train, X_test, y_train, y_test)"
   ]
  },
  {
   "cell_type": "code",
   "execution_count": 9,
   "metadata": {},
   "outputs": [
    {
     "data": {
      "text/plain": [
       "0.8731692074051253"
      ]
     },
     "execution_count": 9,
     "metadata": {},
     "output_type": "execute_result"
    }
   ],
   "source": [
    "regres = LinearRegression()\n",
    "regres.fit(X_train,y_train)\n",
    "regres.score(X_train,y_train)"
   ]
  },
  {
   "cell_type": "code",
   "execution_count": 10,
   "metadata": {},
   "outputs": [
    {
     "name": "stdout",
     "output_type": "stream",
     "text": [
      "[145.3770131   30.32641849 108.1547619   64.16482867  40.47794154\n",
      "  94.61939783  33.71025951  57.39714663 182.5992643   64.16482867\n",
      "  33.71025951  67.54866969 155.52853616  37.09410052  87.8517158\n",
      "  37.09410052  57.39714663 158.91237718  43.86178256  67.54866969\n",
      "  43.86178256]\n"
     ]
    }
   ],
   "source": [
    "predicted = regres.predict(X_test)\n",
    "print(predicted)"
   ]
  },
  {
   "cell_type": "code",
   "execution_count": 11,
   "metadata": {},
   "outputs": [
    {
     "data": {
      "text/plain": [
       "Text(0, 0.5, 'Insuarance amount')"
      ]
     },
     "execution_count": 11,
     "metadata": {},
     "output_type": "execute_result"
    },
    {
     "data": {
      "image/png": "[encoded data removed]",
      "text/plain": [
       "<Figure size 432x288 with 1 Axes>"
      ]
     },
     "metadata": {
      "needs_background": "light"
     },
     "output_type": "display_data"
    }
   ],
   "source": [
    "plt.scatter(X_train,y_train,color=\"red\")\n",
    "plt.plot(X_train,regres.predict(X_train),color=\"blue\")\n",
    "plt.title(\"Insuarance amount Vs No of claims (Training set)\")\n",
    "plt.xlabel(\"No of Claims\")\n",
    "plt.ylabel(\"Insuarance amount\")"
   ]
  },
  {
   "cell_type": "code",
   "execution_count": 12,
   "metadata": {},
   "outputs": [
    {
     "data": {
      "text/plain": [
       "Text(0, 0.5, 'Insuarance amount')"
      ]
     },
     "execution_count": 12,
     "metadata": {},
     "output_type": "execute_result"
    },
    {
     "data": {
      "image/png": "[encoded data removed]",
      "text/plain": [
       "<Figure size 432x288 with 1 Axes>"
      ]
     },
     "metadata": {
      "needs_background": "light"
     },
     "output_type": "display_data"
    }
   ],
   "source": [
    "plt.scatter(X_test,y_test,color=\"red\")\n",
    "plt.plot(X_train,regres.predict(X_train),color=\"blue\")\n",
    "plt.title(\"Insuarance amount Vs No of claims (Test set)\")\n",
    "plt.xlabel(\"No of Claims\")\n",
    "plt.ylabel(\"Insuarance amount\")"
   ]
  },
  {
   "cell_type": "code",
   "execution_count": 13,
   "metadata": {},
   "outputs": [
    {
     "name": "stdout",
     "output_type": "stream",
     "text": [
      "Variance of set Insuarance amount is 7626.10144905274\n"
     ]
    }
   ],
   "source": [
    "print(\"Variance of set Insuarance amount is % s\" %(statistics.variance(y)))"
   ]
  },
  {
   "cell_type": "code",
   "execution_count": 14,
   "metadata": {},
   "outputs": [
    {
     "name": "stdout",
     "output_type": "stream",
     "text": [
      "Coefficient [3.38384102]\n"
     ]
    }
   ],
   "source": [
    "print(\"Coefficient\" , regres.coef_)"
   ]
  },
  {
   "cell_type": "code",
   "execution_count": 15,
   "metadata": {},
   "outputs": [
    {
     "name": "stdout",
     "output_type": "stream",
     "text": [
      "RMSE 5.365619111041141\n"
     ]
    }
   ],
   "source": [
    "print(\"RMSE\",np.sqrt(metrics.mean_absolute_error(y_test,predicted)))"
   ]
  },
  {
   "cell_type": "code",
   "execution_count": 16,
   "metadata": {},
   "outputs": [
    {
     "name": "stdout",
     "output_type": "stream",
     "text": [
      "Mean (Totam Amount) 98.18730158730159\n",
      "Mean (No of Claims) 22.904761904761905\n"
     ]
    }
   ],
   "source": [
    "print(\"Mean (Totam Amount)\" , df[\"Y\"].mean())\n",
    "print(\"Mean (No of Claims)\" , df[\"X\"].mean())"
   ]
  },
  {
   "cell_type": "code",
   "execution_count": 17,
   "metadata": {},
   "outputs": [
    {
     "name": "stdout",
     "output_type": "stream",
     "text": [
      "The predicted Claim amount of 1 claim [23.55873645]\n"
     ]
    }
   ],
   "source": [
    "new_claim = regres.predict([[1]])\n",
    "print(\"The predicted Claim amount of 1 claim\",new_claim)"
   ]
  },
  {
   "cell_type": "code",
   "execution_count": null,
   "metadata": {},
   "outputs": [],
   "source": []
  }
 ],
 "metadata": {
  "kernelspec": {
   "display_name": "Python 3",
   "language": "python",
   "name": "python3"
  },
  "language_info": {
   "codemirror_mode": {
    "name": "ipython",
    "version": 3
   },
   "file_extension": ".py",
   "mimetype": "text/x-python",
   "name": "python",
   "nbconvert_exporter": "python",
   "pygments_lexer": "ipython3",
   "version": "3.8.3"
  }
 },
 "nbformat": 4,
 "nbformat_minor": 4
}
